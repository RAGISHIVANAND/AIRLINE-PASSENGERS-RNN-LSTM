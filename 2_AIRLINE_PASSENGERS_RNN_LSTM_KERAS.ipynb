{
  "nbformat": 4,
  "nbformat_minor": 0,
  "metadata": {
    "colab": {
      "provenance": [],
      "mount_file_id": "1vb8xG7WneudDaysNzwDbVMVRADEbwl8m",
      "authorship_tag": "ABX9TyN1pBWn32EYSf9olGC+QxC4",
      "include_colab_link": true
    },
    "kernelspec": {
      "name": "python3",
      "display_name": "Python 3"
    },
    "language_info": {
      "name": "python"
    }
  },
  "cells": [
    {
      "cell_type": "markdown",
      "metadata": {
        "id": "view-in-github",
        "colab_type": "text"
      },
      "source": [
        "<a href=\"https://colab.research.google.com/github/RAGISHIVANAND/AIRLINE-PASSENGERS-RNN-LSTM/blob/main/2_AIRLINE_PASSENGERS_RNN_LSTM_KERAS.ipynb\" target=\"_parent\"><img src=\"https://colab.research.google.com/assets/colab-badge.svg\" alt=\"Open In Colab\"/></a>"
      ]
    },
    {
      "cell_type": "markdown",
      "source": [
        "Airlines Passenger Forecasting using Stacked LSTM\n",
        "This is a problem where, given a year and a month, the task is to predict the number of international airline passengers in units of 1,000. The data ranges from January 1949 to December 1960, or 12 years, with 144 observations."
      ],
      "metadata": {
        "id": "mIfwfbxUGa5H"
      }
    },
    {
      "cell_type": "code",
      "execution_count": 2,
      "metadata": {
        "id": "5VIRLVaQAJeF"
      },
      "outputs": [],
      "source": [
        "#kaggle dataset\n",
        "#https://www.kaggle.com/rakannimer/air-passengers?select=AirPassengers.csv\n"
      ]
    },
    {
      "cell_type": "code",
      "source": [
        "import pandas as pd\n"
      ],
      "metadata": {
        "id": "yYZmE3SyGg6M"
      },
      "execution_count": 3,
      "outputs": []
    },
    {
      "cell_type": "code",
      "source": [
        "df=pd.read_csv('/content/drive/MyDrive/Airline passengers.csv')\n"
      ],
      "metadata": {
        "id": "HgrfMgnwGkSS"
      },
      "execution_count": 4,
      "outputs": []
    },
    {
      "cell_type": "code",
      "source": [
        "df.head()"
      ],
      "metadata": {
        "colab": {
          "base_uri": "https://localhost:8080/",
          "height": 206
        },
        "id": "2x2cSgOLHXda",
        "outputId": "19d0b75e-b3c8-48cb-b792-77710e598071"
      },
      "execution_count": 5,
      "outputs": [
        {
          "output_type": "execute_result",
          "data": {
            "text/plain": [
              "     Month  Passengers\n",
              "0  1949-01         112\n",
              "1  1949-02         118\n",
              "2  1949-03         132\n",
              "3  1949-04         129\n",
              "4  1949-05         121"
            ],
            "text/html": [
              "\n",
              "\n",
              "  <div id=\"df-7dd08612-127b-4237-8b9f-792cb133a59a\">\n",
              "    <div class=\"colab-df-container\">\n",
              "      <div>\n",
              "<style scoped>\n",
              "    .dataframe tbody tr th:only-of-type {\n",
              "        vertical-align: middle;\n",
              "    }\n",
              "\n",
              "    .dataframe tbody tr th {\n",
              "        vertical-align: top;\n",
              "    }\n",
              "\n",
              "    .dataframe thead th {\n",
              "        text-align: right;\n",
              "    }\n",
              "</style>\n",
              "<table border=\"1\" class=\"dataframe\">\n",
              "  <thead>\n",
              "    <tr style=\"text-align: right;\">\n",
              "      <th></th>\n",
              "      <th>Month</th>\n",
              "      <th>Passengers</th>\n",
              "    </tr>\n",
              "  </thead>\n",
              "  <tbody>\n",
              "    <tr>\n",
              "      <th>0</th>\n",
              "      <td>1949-01</td>\n",
              "      <td>112</td>\n",
              "    </tr>\n",
              "    <tr>\n",
              "      <th>1</th>\n",
              "      <td>1949-02</td>\n",
              "      <td>118</td>\n",
              "    </tr>\n",
              "    <tr>\n",
              "      <th>2</th>\n",
              "      <td>1949-03</td>\n",
              "      <td>132</td>\n",
              "    </tr>\n",
              "    <tr>\n",
              "      <th>3</th>\n",
              "      <td>1949-04</td>\n",
              "      <td>129</td>\n",
              "    </tr>\n",
              "    <tr>\n",
              "      <th>4</th>\n",
              "      <td>1949-05</td>\n",
              "      <td>121</td>\n",
              "    </tr>\n",
              "  </tbody>\n",
              "</table>\n",
              "</div>\n",
              "      <button class=\"colab-df-convert\" onclick=\"convertToInteractive('df-7dd08612-127b-4237-8b9f-792cb133a59a')\"\n",
              "              title=\"Convert this dataframe to an interactive table.\"\n",
              "              style=\"display:none;\">\n",
              "\n",
              "  <svg xmlns=\"http://www.w3.org/2000/svg\" height=\"24px\"viewBox=\"0 0 24 24\"\n",
              "       width=\"24px\">\n",
              "    <path d=\"M0 0h24v24H0V0z\" fill=\"none\"/>\n",
              "    <path d=\"M18.56 5.44l.94 2.06.94-2.06 2.06-.94-2.06-.94-.94-2.06-.94 2.06-2.06.94zm-11 1L8.5 8.5l.94-2.06 2.06-.94-2.06-.94L8.5 2.5l-.94 2.06-2.06.94zm10 10l.94 2.06.94-2.06 2.06-.94-2.06-.94-.94-2.06-.94 2.06-2.06.94z\"/><path d=\"M17.41 7.96l-1.37-1.37c-.4-.4-.92-.59-1.43-.59-.52 0-1.04.2-1.43.59L10.3 9.45l-7.72 7.72c-.78.78-.78 2.05 0 2.83L4 21.41c.39.39.9.59 1.41.59.51 0 1.02-.2 1.41-.59l7.78-7.78 2.81-2.81c.8-.78.8-2.07 0-2.86zM5.41 20L4 18.59l7.72-7.72 1.47 1.35L5.41 20z\"/>\n",
              "  </svg>\n",
              "      </button>\n",
              "\n",
              "\n",
              "\n",
              "    <div id=\"df-58ba45cd-fc61-433f-b140-e31c99d142a2\">\n",
              "      <button class=\"colab-df-quickchart\" onclick=\"quickchart('df-58ba45cd-fc61-433f-b140-e31c99d142a2')\"\n",
              "              title=\"Suggest charts.\"\n",
              "              style=\"display:none;\">\n",
              "\n",
              "<svg xmlns=\"http://www.w3.org/2000/svg\" height=\"24px\"viewBox=\"0 0 24 24\"\n",
              "     width=\"24px\">\n",
              "    <g>\n",
              "        <path d=\"M19 3H5c-1.1 0-2 .9-2 2v14c0 1.1.9 2 2 2h14c1.1 0 2-.9 2-2V5c0-1.1-.9-2-2-2zM9 17H7v-7h2v7zm4 0h-2V7h2v10zm4 0h-2v-4h2v4z\"/>\n",
              "    </g>\n",
              "</svg>\n",
              "      </button>\n",
              "    </div>\n",
              "\n",
              "<style>\n",
              "  .colab-df-quickchart {\n",
              "    background-color: #E8F0FE;\n",
              "    border: none;\n",
              "    border-radius: 50%;\n",
              "    cursor: pointer;\n",
              "    display: none;\n",
              "    fill: #1967D2;\n",
              "    height: 32px;\n",
              "    padding: 0 0 0 0;\n",
              "    width: 32px;\n",
              "  }\n",
              "\n",
              "  .colab-df-quickchart:hover {\n",
              "    background-color: #E2EBFA;\n",
              "    box-shadow: 0px 1px 2px rgba(60, 64, 67, 0.3), 0px 1px 3px 1px rgba(60, 64, 67, 0.15);\n",
              "    fill: #174EA6;\n",
              "  }\n",
              "\n",
              "  [theme=dark] .colab-df-quickchart {\n",
              "    background-color: #3B4455;\n",
              "    fill: #D2E3FC;\n",
              "  }\n",
              "\n",
              "  [theme=dark] .colab-df-quickchart:hover {\n",
              "    background-color: #434B5C;\n",
              "    box-shadow: 0px 1px 3px 1px rgba(0, 0, 0, 0.15);\n",
              "    filter: drop-shadow(0px 1px 2px rgba(0, 0, 0, 0.3));\n",
              "    fill: #FFFFFF;\n",
              "  }\n",
              "</style>\n",
              "\n",
              "    <script>\n",
              "      async function quickchart(key) {\n",
              "        const containerElement = document.querySelector('#' + key);\n",
              "        const charts = await google.colab.kernel.invokeFunction(\n",
              "            'suggestCharts', [key], {});\n",
              "      }\n",
              "    </script>\n",
              "\n",
              "      <script>\n",
              "\n",
              "function displayQuickchartButton(domScope) {\n",
              "  let quickchartButtonEl =\n",
              "    domScope.querySelector('#df-58ba45cd-fc61-433f-b140-e31c99d142a2 button.colab-df-quickchart');\n",
              "  quickchartButtonEl.style.display =\n",
              "    google.colab.kernel.accessAllowed ? 'block' : 'none';\n",
              "}\n",
              "\n",
              "        displayQuickchartButton(document);\n",
              "      </script>\n",
              "      <style>\n",
              "    .colab-df-container {\n",
              "      display:flex;\n",
              "      flex-wrap:wrap;\n",
              "      gap: 12px;\n",
              "    }\n",
              "\n",
              "    .colab-df-convert {\n",
              "      background-color: #E8F0FE;\n",
              "      border: none;\n",
              "      border-radius: 50%;\n",
              "      cursor: pointer;\n",
              "      display: none;\n",
              "      fill: #1967D2;\n",
              "      height: 32px;\n",
              "      padding: 0 0 0 0;\n",
              "      width: 32px;\n",
              "    }\n",
              "\n",
              "    .colab-df-convert:hover {\n",
              "      background-color: #E2EBFA;\n",
              "      box-shadow: 0px 1px 2px rgba(60, 64, 67, 0.3), 0px 1px 3px 1px rgba(60, 64, 67, 0.15);\n",
              "      fill: #174EA6;\n",
              "    }\n",
              "\n",
              "    [theme=dark] .colab-df-convert {\n",
              "      background-color: #3B4455;\n",
              "      fill: #D2E3FC;\n",
              "    }\n",
              "\n",
              "    [theme=dark] .colab-df-convert:hover {\n",
              "      background-color: #434B5C;\n",
              "      box-shadow: 0px 1px 3px 1px rgba(0, 0, 0, 0.15);\n",
              "      filter: drop-shadow(0px 1px 2px rgba(0, 0, 0, 0.3));\n",
              "      fill: #FFFFFF;\n",
              "    }\n",
              "  </style>\n",
              "\n",
              "      <script>\n",
              "        const buttonEl =\n",
              "          document.querySelector('#df-7dd08612-127b-4237-8b9f-792cb133a59a button.colab-df-convert');\n",
              "        buttonEl.style.display =\n",
              "          google.colab.kernel.accessAllowed ? 'block' : 'none';\n",
              "\n",
              "        async function convertToInteractive(key) {\n",
              "          const element = document.querySelector('#df-7dd08612-127b-4237-8b9f-792cb133a59a');\n",
              "          const dataTable =\n",
              "            await google.colab.kernel.invokeFunction('convertToInteractive',\n",
              "                                                     [key], {});\n",
              "          if (!dataTable) return;\n",
              "\n",
              "          const docLinkHtml = 'Like what you see? Visit the ' +\n",
              "            '<a target=\"_blank\" href=https://colab.research.google.com/notebooks/data_table.ipynb>data table notebook</a>'\n",
              "            + ' to learn more about interactive tables.';\n",
              "          element.innerHTML = '';\n",
              "          dataTable['output_type'] = 'display_data';\n",
              "          await google.colab.output.renderOutput(dataTable, element);\n",
              "          const docLink = document.createElement('div');\n",
              "          docLink.innerHTML = docLinkHtml;\n",
              "          element.appendChild(docLink);\n",
              "        }\n",
              "      </script>\n",
              "    </div>\n",
              "  </div>\n"
            ]
          },
          "metadata": {},
          "execution_count": 5
        }
      ]
    },
    {
      "cell_type": "code",
      "source": [
        "df.tail()"
      ],
      "metadata": {
        "colab": {
          "base_uri": "https://localhost:8080/",
          "height": 206
        },
        "id": "lq_FHx3ZHabO",
        "outputId": "fd529f9e-e2c1-4cfa-b712-ea88ec8bb97a"
      },
      "execution_count": 6,
      "outputs": [
        {
          "output_type": "execute_result",
          "data": {
            "text/plain": [
              "       Month  Passengers\n",
              "139  1960-08         606\n",
              "140  1960-09         508\n",
              "141  1960-10         461\n",
              "142  1960-11         390\n",
              "143  1960-12         432"
            ],
            "text/html": [
              "\n",
              "\n",
              "  <div id=\"df-cf5d94c1-6ae5-4379-a73f-aea2782788dc\">\n",
              "    <div class=\"colab-df-container\">\n",
              "      <div>\n",
              "<style scoped>\n",
              "    .dataframe tbody tr th:only-of-type {\n",
              "        vertical-align: middle;\n",
              "    }\n",
              "\n",
              "    .dataframe tbody tr th {\n",
              "        vertical-align: top;\n",
              "    }\n",
              "\n",
              "    .dataframe thead th {\n",
              "        text-align: right;\n",
              "    }\n",
              "</style>\n",
              "<table border=\"1\" class=\"dataframe\">\n",
              "  <thead>\n",
              "    <tr style=\"text-align: right;\">\n",
              "      <th></th>\n",
              "      <th>Month</th>\n",
              "      <th>Passengers</th>\n",
              "    </tr>\n",
              "  </thead>\n",
              "  <tbody>\n",
              "    <tr>\n",
              "      <th>139</th>\n",
              "      <td>1960-08</td>\n",
              "      <td>606</td>\n",
              "    </tr>\n",
              "    <tr>\n",
              "      <th>140</th>\n",
              "      <td>1960-09</td>\n",
              "      <td>508</td>\n",
              "    </tr>\n",
              "    <tr>\n",
              "      <th>141</th>\n",
              "      <td>1960-10</td>\n",
              "      <td>461</td>\n",
              "    </tr>\n",
              "    <tr>\n",
              "      <th>142</th>\n",
              "      <td>1960-11</td>\n",
              "      <td>390</td>\n",
              "    </tr>\n",
              "    <tr>\n",
              "      <th>143</th>\n",
              "      <td>1960-12</td>\n",
              "      <td>432</td>\n",
              "    </tr>\n",
              "  </tbody>\n",
              "</table>\n",
              "</div>\n",
              "      <button class=\"colab-df-convert\" onclick=\"convertToInteractive('df-cf5d94c1-6ae5-4379-a73f-aea2782788dc')\"\n",
              "              title=\"Convert this dataframe to an interactive table.\"\n",
              "              style=\"display:none;\">\n",
              "\n",
              "  <svg xmlns=\"http://www.w3.org/2000/svg\" height=\"24px\"viewBox=\"0 0 24 24\"\n",
              "       width=\"24px\">\n",
              "    <path d=\"M0 0h24v24H0V0z\" fill=\"none\"/>\n",
              "    <path d=\"M18.56 5.44l.94 2.06.94-2.06 2.06-.94-2.06-.94-.94-2.06-.94 2.06-2.06.94zm-11 1L8.5 8.5l.94-2.06 2.06-.94-2.06-.94L8.5 2.5l-.94 2.06-2.06.94zm10 10l.94 2.06.94-2.06 2.06-.94-2.06-.94-.94-2.06-.94 2.06-2.06.94z\"/><path d=\"M17.41 7.96l-1.37-1.37c-.4-.4-.92-.59-1.43-.59-.52 0-1.04.2-1.43.59L10.3 9.45l-7.72 7.72c-.78.78-.78 2.05 0 2.83L4 21.41c.39.39.9.59 1.41.59.51 0 1.02-.2 1.41-.59l7.78-7.78 2.81-2.81c.8-.78.8-2.07 0-2.86zM5.41 20L4 18.59l7.72-7.72 1.47 1.35L5.41 20z\"/>\n",
              "  </svg>\n",
              "      </button>\n",
              "\n",
              "\n",
              "\n",
              "    <div id=\"df-e9032e75-47f3-4327-a88d-493e8a084ee8\">\n",
              "      <button class=\"colab-df-quickchart\" onclick=\"quickchart('df-e9032e75-47f3-4327-a88d-493e8a084ee8')\"\n",
              "              title=\"Suggest charts.\"\n",
              "              style=\"display:none;\">\n",
              "\n",
              "<svg xmlns=\"http://www.w3.org/2000/svg\" height=\"24px\"viewBox=\"0 0 24 24\"\n",
              "     width=\"24px\">\n",
              "    <g>\n",
              "        <path d=\"M19 3H5c-1.1 0-2 .9-2 2v14c0 1.1.9 2 2 2h14c1.1 0 2-.9 2-2V5c0-1.1-.9-2-2-2zM9 17H7v-7h2v7zm4 0h-2V7h2v10zm4 0h-2v-4h2v4z\"/>\n",
              "    </g>\n",
              "</svg>\n",
              "      </button>\n",
              "    </div>\n",
              "\n",
              "<style>\n",
              "  .colab-df-quickchart {\n",
              "    background-color: #E8F0FE;\n",
              "    border: none;\n",
              "    border-radius: 50%;\n",
              "    cursor: pointer;\n",
              "    display: none;\n",
              "    fill: #1967D2;\n",
              "    height: 32px;\n",
              "    padding: 0 0 0 0;\n",
              "    width: 32px;\n",
              "  }\n",
              "\n",
              "  .colab-df-quickchart:hover {\n",
              "    background-color: #E2EBFA;\n",
              "    box-shadow: 0px 1px 2px rgba(60, 64, 67, 0.3), 0px 1px 3px 1px rgba(60, 64, 67, 0.15);\n",
              "    fill: #174EA6;\n",
              "  }\n",
              "\n",
              "  [theme=dark] .colab-df-quickchart {\n",
              "    background-color: #3B4455;\n",
              "    fill: #D2E3FC;\n",
              "  }\n",
              "\n",
              "  [theme=dark] .colab-df-quickchart:hover {\n",
              "    background-color: #434B5C;\n",
              "    box-shadow: 0px 1px 3px 1px rgba(0, 0, 0, 0.15);\n",
              "    filter: drop-shadow(0px 1px 2px rgba(0, 0, 0, 0.3));\n",
              "    fill: #FFFFFF;\n",
              "  }\n",
              "</style>\n",
              "\n",
              "    <script>\n",
              "      async function quickchart(key) {\n",
              "        const containerElement = document.querySelector('#' + key);\n",
              "        const charts = await google.colab.kernel.invokeFunction(\n",
              "            'suggestCharts', [key], {});\n",
              "      }\n",
              "    </script>\n",
              "\n",
              "      <script>\n",
              "\n",
              "function displayQuickchartButton(domScope) {\n",
              "  let quickchartButtonEl =\n",
              "    domScope.querySelector('#df-e9032e75-47f3-4327-a88d-493e8a084ee8 button.colab-df-quickchart');\n",
              "  quickchartButtonEl.style.display =\n",
              "    google.colab.kernel.accessAllowed ? 'block' : 'none';\n",
              "}\n",
              "\n",
              "        displayQuickchartButton(document);\n",
              "      </script>\n",
              "      <style>\n",
              "    .colab-df-container {\n",
              "      display:flex;\n",
              "      flex-wrap:wrap;\n",
              "      gap: 12px;\n",
              "    }\n",
              "\n",
              "    .colab-df-convert {\n",
              "      background-color: #E8F0FE;\n",
              "      border: none;\n",
              "      border-radius: 50%;\n",
              "      cursor: pointer;\n",
              "      display: none;\n",
              "      fill: #1967D2;\n",
              "      height: 32px;\n",
              "      padding: 0 0 0 0;\n",
              "      width: 32px;\n",
              "    }\n",
              "\n",
              "    .colab-df-convert:hover {\n",
              "      background-color: #E2EBFA;\n",
              "      box-shadow: 0px 1px 2px rgba(60, 64, 67, 0.3), 0px 1px 3px 1px rgba(60, 64, 67, 0.15);\n",
              "      fill: #174EA6;\n",
              "    }\n",
              "\n",
              "    [theme=dark] .colab-df-convert {\n",
              "      background-color: #3B4455;\n",
              "      fill: #D2E3FC;\n",
              "    }\n",
              "\n",
              "    [theme=dark] .colab-df-convert:hover {\n",
              "      background-color: #434B5C;\n",
              "      box-shadow: 0px 1px 3px 1px rgba(0, 0, 0, 0.15);\n",
              "      filter: drop-shadow(0px 1px 2px rgba(0, 0, 0, 0.3));\n",
              "      fill: #FFFFFF;\n",
              "    }\n",
              "  </style>\n",
              "\n",
              "      <script>\n",
              "        const buttonEl =\n",
              "          document.querySelector('#df-cf5d94c1-6ae5-4379-a73f-aea2782788dc button.colab-df-convert');\n",
              "        buttonEl.style.display =\n",
              "          google.colab.kernel.accessAllowed ? 'block' : 'none';\n",
              "\n",
              "        async function convertToInteractive(key) {\n",
              "          const element = document.querySelector('#df-cf5d94c1-6ae5-4379-a73f-aea2782788dc');\n",
              "          const dataTable =\n",
              "            await google.colab.kernel.invokeFunction('convertToInteractive',\n",
              "                                                     [key], {});\n",
              "          if (!dataTable) return;\n",
              "\n",
              "          const docLinkHtml = 'Like what you see? Visit the ' +\n",
              "            '<a target=\"_blank\" href=https://colab.research.google.com/notebooks/data_table.ipynb>data table notebook</a>'\n",
              "            + ' to learn more about interactive tables.';\n",
              "          element.innerHTML = '';\n",
              "          dataTable['output_type'] = 'display_data';\n",
              "          await google.colab.output.renderOutput(dataTable, element);\n",
              "          const docLink = document.createElement('div');\n",
              "          docLink.innerHTML = docLinkHtml;\n",
              "          element.appendChild(docLink);\n",
              "        }\n",
              "      </script>\n",
              "    </div>\n",
              "  </div>\n"
            ]
          },
          "metadata": {},
          "execution_count": 6
        }
      ]
    },
    {
      "cell_type": "code",
      "source": [
        "import matplotlib.pyplot as plt"
      ],
      "metadata": {
        "id": "UFg2n0k7HeN6"
      },
      "execution_count": 7,
      "outputs": []
    },
    {
      "cell_type": "code",
      "source": [
        "plt.plot(df.iloc[:,1])"
      ],
      "metadata": {
        "colab": {
          "base_uri": "https://localhost:8080/",
          "height": 447
        },
        "id": "4Inoyrl1HiWJ",
        "outputId": "0eb160ce-33ef-45fb-d617-e2164bfe9800"
      },
      "execution_count": 8,
      "outputs": [
        {
          "output_type": "execute_result",
          "data": {
            "text/plain": [
              "[<matplotlib.lines.Line2D at 0x7c2f730adb10>]"
            ]
          },
          "metadata": {},
          "execution_count": 8
        },
        {
          "output_type": "display_data",
          "data": {
            "text/plain": [
              "<Figure size 640x480 with 1 Axes>"
            ],
            "image/png": "[encoded data removed]"
          },
          "metadata": {}
        }
      ]
    },
    {
      "cell_type": "markdown",
      "source": [
        "Scaling\n",
        "LSTMs are sensitive to the scale of the input data, specifically when the sigmoid (default) or tanh activation functions are used. It can be a good practice to rescale the data to the range of 0-to-1, also called normalizing. We can easily normalize the dataset using the MinMaxScaler preprocessing class from the scikit-learn library."
      ],
      "metadata": {
        "id": "rpsslzQyHs8Y"
      }
    },
    {
      "cell_type": "code",
      "source": [
        "from sklearn.preprocessing import MinMaxScaler\n"
      ],
      "metadata": {
        "id": "l-2Nr7kcHoRJ"
      },
      "execution_count": 9,
      "outputs": []
    },
    {
      "cell_type": "code",
      "source": [
        "df.iloc[:,1]"
      ],
      "metadata": {
        "colab": {
          "base_uri": "https://localhost:8080/"
        },
        "id": "dzADNYmFHx37",
        "outputId": "a09ebc15-9098-4fb7-a345-1ecd77aa54c4"
      },
      "execution_count": 10,
      "outputs": [
        {
          "output_type": "execute_result",
          "data": {
            "text/plain": [
              "0      112\n",
              "1      118\n",
              "2      132\n",
              "3      129\n",
              "4      121\n",
              "      ... \n",
              "139    606\n",
              "140    508\n",
              "141    461\n",
              "142    390\n",
              "143    432\n",
              "Name: Passengers, Length: 144, dtype: int64"
            ]
          },
          "metadata": {},
          "execution_count": 10
        }
      ]
    },
    {
      "cell_type": "code",
      "source": [
        "scaler=MinMaxScaler(feature_range=(0,1))\n",
        "df=scaler.fit_transform(df.iloc[:,1:])"
      ],
      "metadata": {
        "id": "AMfoe7t1H1hu"
      },
      "execution_count": 11,
      "outputs": []
    },
    {
      "cell_type": "code",
      "source": [
        "df.shape"
      ],
      "metadata": {
        "colab": {
          "base_uri": "https://localhost:8080/"
        },
        "id": "x0PbMY9tH7pU",
        "outputId": "9896e003-4752-4679-cf8d-ea83cd9e2dbe"
      },
      "execution_count": 12,
      "outputs": [
        {
          "output_type": "execute_result",
          "data": {
            "text/plain": [
              "(144, 1)"
            ]
          },
          "metadata": {},
          "execution_count": 12
        }
      ]
    },
    {
      "cell_type": "code",
      "source": [
        "df"
      ],
      "metadata": {
        "colab": {
          "base_uri": "https://localhost:8080/"
        },
        "id": "fVxbACdeIDFB",
        "outputId": "56081dfb-be63-499a-9183-97d0607c1f15"
      },
      "execution_count": 13,
      "outputs": [
        {
          "output_type": "execute_result",
          "data": {
            "text/plain": [
              "array([[0.01544402],\n",
              "       [0.02702703],\n",
              "       [0.05405405],\n",
              "       [0.04826255],\n",
              "       [0.03281853],\n",
              "       [0.05984556],\n",
              "       [0.08494208],\n",
              "       [0.08494208],\n",
              "       [0.06177606],\n",
              "       [0.02895753],\n",
              "       [0.        ],\n",
              "       [0.02702703],\n",
              "       [0.02123552],\n",
              "       [0.04247104],\n",
              "       [0.07142857],\n",
              "       [0.05984556],\n",
              "       [0.04054054],\n",
              "       [0.08687259],\n",
              "       [0.12741313],\n",
              "       [0.12741313],\n",
              "       [0.1042471 ],\n",
              "       [0.05598456],\n",
              "       [0.01930502],\n",
              "       [0.06949807],\n",
              "       [0.07915058],\n",
              "       [0.08880309],\n",
              "       [0.14285714],\n",
              "       [0.11389961],\n",
              "       [0.13127413],\n",
              "       [0.14285714],\n",
              "       [0.18339768],\n",
              "       [0.18339768],\n",
              "       [0.15444015],\n",
              "       [0.11196911],\n",
              "       [0.08108108],\n",
              "       [0.11969112],\n",
              "       [0.12934363],\n",
              "       [0.14671815],\n",
              "       [0.17181467],\n",
              "       [0.14864865],\n",
              "       [0.15250965],\n",
              "       [0.22007722],\n",
              "       [0.24324324],\n",
              "       [0.26640927],\n",
              "       [0.2027027 ],\n",
              "       [0.16795367],\n",
              "       [0.13127413],\n",
              "       [0.17374517],\n",
              "       [0.17760618],\n",
              "       [0.17760618],\n",
              "       [0.25482625],\n",
              "       [0.25289575],\n",
              "       [0.24131274],\n",
              "       [0.26833977],\n",
              "       [0.30888031],\n",
              "       [0.32432432],\n",
              "       [0.25675676],\n",
              "       [0.20656371],\n",
              "       [0.14671815],\n",
              "       [0.18725869],\n",
              "       [0.19305019],\n",
              "       [0.16216216],\n",
              "       [0.25289575],\n",
              "       [0.23745174],\n",
              "       [0.25096525],\n",
              "       [0.30888031],\n",
              "       [0.38223938],\n",
              "       [0.36486486],\n",
              "       [0.2992278 ],\n",
              "       [0.24131274],\n",
              "       [0.19111969],\n",
              "       [0.24131274],\n",
              "       [0.26640927],\n",
              "       [0.24903475],\n",
              "       [0.31467181],\n",
              "       [0.31853282],\n",
              "       [0.32046332],\n",
              "       [0.40733591],\n",
              "       [0.5019305 ],\n",
              "       [0.46911197],\n",
              "       [0.4015444 ],\n",
              "       [0.32818533],\n",
              "       [0.25675676],\n",
              "       [0.33590734],\n",
              "       [0.34749035],\n",
              "       [0.33397683],\n",
              "       [0.41119691],\n",
              "       [0.4034749 ],\n",
              "       [0.41312741],\n",
              "       [0.52123552],\n",
              "       [0.5965251 ],\n",
              "       [0.58108108],\n",
              "       [0.48455598],\n",
              "       [0.38996139],\n",
              "       [0.32239382],\n",
              "       [0.38996139],\n",
              "       [0.40733591],\n",
              "       [0.38030888],\n",
              "       [0.48648649],\n",
              "       [0.47104247],\n",
              "       [0.48455598],\n",
              "       [0.61389961],\n",
              "       [0.6969112 ],\n",
              "       [0.7007722 ],\n",
              "       [0.57915058],\n",
              "       [0.46911197],\n",
              "       [0.38803089],\n",
              "       [0.44787645],\n",
              "       [0.45559846],\n",
              "       [0.41312741],\n",
              "       [0.4980695 ],\n",
              "       [0.47104247],\n",
              "       [0.5       ],\n",
              "       [0.63899614],\n",
              "       [0.74710425],\n",
              "       [0.77413127],\n",
              "       [0.57915058],\n",
              "       [0.49227799],\n",
              "       [0.3976834 ],\n",
              "       [0.44980695],\n",
              "       [0.49420849],\n",
              "       [0.45945946],\n",
              "       [0.58301158],\n",
              "       [0.56370656],\n",
              "       [0.61003861],\n",
              "       [0.71042471],\n",
              "       [0.85714286],\n",
              "       [0.87837838],\n",
              "       [0.69305019],\n",
              "       [0.58494208],\n",
              "       [0.4980695 ],\n",
              "       [0.58108108],\n",
              "       [0.6042471 ],\n",
              "       [0.55405405],\n",
              "       [0.60810811],\n",
              "       [0.68918919],\n",
              "       [0.71042471],\n",
              "       [0.83204633],\n",
              "       [1.        ],\n",
              "       [0.96911197],\n",
              "       [0.77992278],\n",
              "       [0.68918919],\n",
              "       [0.55212355],\n",
              "       [0.63320463]])"
            ]
          },
          "metadata": {},
          "execution_count": 13
        }
      ]
    },
    {
      "cell_type": "code",
      "source": [
        "##splitting dataset into train and test split\n",
        "training_size=int(len(df)*0.65)"
      ],
      "metadata": {
        "id": "lamBMe5MIFoE"
      },
      "execution_count": 14,
      "outputs": []
    },
    {
      "cell_type": "code",
      "source": [
        "training_size"
      ],
      "metadata": {
        "colab": {
          "base_uri": "https://localhost:8080/"
        },
        "id": "cIPLDlYjIKxp",
        "outputId": "82e1e21e-ce8d-4b46-9519-cae1d44efa9f"
      },
      "execution_count": 15,
      "outputs": [
        {
          "output_type": "execute_result",
          "data": {
            "text/plain": [
              "93"
            ]
          },
          "metadata": {},
          "execution_count": 15
        }
      ]
    },
    {
      "cell_type": "code",
      "source": [
        "test_size=len(df)-training_size"
      ],
      "metadata": {
        "id": "4iaRsGW9IQtv"
      },
      "execution_count": 16,
      "outputs": []
    },
    {
      "cell_type": "code",
      "source": [
        "test_size"
      ],
      "metadata": {
        "colab": {
          "base_uri": "https://localhost:8080/"
        },
        "id": "leTQ0hytIT48",
        "outputId": "29032793-215b-4053-bdab-33e2ce48b9bf"
      },
      "execution_count": 17,
      "outputs": [
        {
          "output_type": "execute_result",
          "data": {
            "text/plain": [
              "51"
            ]
          },
          "metadata": {},
          "execution_count": 17
        }
      ]
    },
    {
      "cell_type": "code",
      "source": [
        "train_data,test_data=df[0:training_size,:],df[training_size:len(df),:1]"
      ],
      "metadata": {
        "id": "BXdPv810IWpy"
      },
      "execution_count": 18,
      "outputs": []
    },
    {
      "cell_type": "code",
      "source": [
        "test_data"
      ],
      "metadata": {
        "colab": {
          "base_uri": "https://localhost:8080/"
        },
        "id": "Nq-BHPFCIZ3H",
        "outputId": "3e03832f-f1a5-49a3-aa67-5709a3245390"
      },
      "execution_count": 19,
      "outputs": [
        {
          "output_type": "execute_result",
          "data": {
            "text/plain": [
              "array([[0.38996139],\n",
              "       [0.32239382],\n",
              "       [0.38996139],\n",
              "       [0.40733591],\n",
              "       [0.38030888],\n",
              "       [0.48648649],\n",
              "       [0.47104247],\n",
              "       [0.48455598],\n",
              "       [0.61389961],\n",
              "       [0.6969112 ],\n",
              "       [0.7007722 ],\n",
              "       [0.57915058],\n",
              "       [0.46911197],\n",
              "       [0.38803089],\n",
              "       [0.44787645],\n",
              "       [0.45559846],\n",
              "       [0.41312741],\n",
              "       [0.4980695 ],\n",
              "       [0.47104247],\n",
              "       [0.5       ],\n",
              "       [0.63899614],\n",
              "       [0.74710425],\n",
              "       [0.77413127],\n",
              "       [0.57915058],\n",
              "       [0.49227799],\n",
              "       [0.3976834 ],\n",
              "       [0.44980695],\n",
              "       [0.49420849],\n",
              "       [0.45945946],\n",
              "       [0.58301158],\n",
              "       [0.56370656],\n",
              "       [0.61003861],\n",
              "       [0.71042471],\n",
              "       [0.85714286],\n",
              "       [0.87837838],\n",
              "       [0.69305019],\n",
              "       [0.58494208],\n",
              "       [0.4980695 ],\n",
              "       [0.58108108],\n",
              "       [0.6042471 ],\n",
              "       [0.55405405],\n",
              "       [0.60810811],\n",
              "       [0.68918919],\n",
              "       [0.71042471],\n",
              "       [0.83204633],\n",
              "       [1.        ],\n",
              "       [0.96911197],\n",
              "       [0.77992278],\n",
              "       [0.68918919],\n",
              "       [0.55212355],\n",
              "       [0.63320463]])"
            ]
          },
          "metadata": {},
          "execution_count": 19
        }
      ]
    },
    {
      "cell_type": "code",
      "source": [
        "import numpy\n",
        "# convert an array of values into a dataset matrix\n",
        "def create_dataset(dataset, time_step=1):\n",
        "\tdataX, dataY = [], []\n",
        "\tfor i in range(len(dataset)-time_step-1):\n",
        "\t\ta = dataset[i:(i+time_step), 0]   ###i=0, 0,1,2,3\n",
        "\t\tdataX.append(a)\n",
        "\t\tdataY.append(dataset[i + time_step, 0])\n",
        "\treturn numpy.array(dataX), numpy.array(dataY)"
      ],
      "metadata": {
        "id": "JlrIiva9Icds"
      },
      "execution_count": 20,
      "outputs": []
    },
    {
      "cell_type": "code",
      "source": [
        "# reshape into X=t,t+1,t+2,t+3 and Y=t+4\n",
        "time_step = 4\n",
        "X_train, y_train = create_dataset(train_data, time_step)\n",
        "X_test, ytest = create_dataset(test_data, time_step)"
      ],
      "metadata": {
        "id": "5sxWTMQXIgqY"
      },
      "execution_count": 21,
      "outputs": []
    },
    {
      "cell_type": "code",
      "source": [
        "X_train.shape, y_train.shape"
      ],
      "metadata": {
        "colab": {
          "base_uri": "https://localhost:8080/"
        },
        "id": "7BJgB5WOIjtQ",
        "outputId": "f32812e8-fc70-4389-c6f2-513e3a049d07"
      },
      "execution_count": 22,
      "outputs": [
        {
          "output_type": "execute_result",
          "data": {
            "text/plain": [
              "((88, 4), (88,))"
            ]
          },
          "metadata": {},
          "execution_count": 22
        }
      ]
    },
    {
      "cell_type": "code",
      "source": [
        "import numpy as np\n",
        "# reshape input to be [samples, time steps, features] which is required for LSTM\n",
        "X_train =X_train.reshape(X_train.shape[0], 4, 1)\n",
        "X_test = X_test.reshape(X_test.shape[0], 4, 1)"
      ],
      "metadata": {
        "id": "N_KsB4NAImmr"
      },
      "execution_count": 23,
      "outputs": []
    },
    {
      "cell_type": "code",
      "source": [
        "X_train.shape"
      ],
      "metadata": {
        "colab": {
          "base_uri": "https://localhost:8080/"
        },
        "id": "YBm5YUwzI250",
        "outputId": "fb5b2a48-022a-484a-8d63-15c112622ab0"
      },
      "execution_count": 24,
      "outputs": [
        {
          "output_type": "execute_result",
          "data": {
            "text/plain": [
              "(88, 4, 1)"
            ]
          },
          "metadata": {},
          "execution_count": 24
        }
      ]
    },
    {
      "cell_type": "code",
      "source": [
        "### Create the LSTM model\n",
        "from tensorflow.keras.models import Sequential\n",
        "from tensorflow.keras.layers import Dense\n",
        "from tensorflow.keras.layers import LSTM"
      ],
      "metadata": {
        "id": "Dxl7gOKwI5ZD"
      },
      "execution_count": 25,
      "outputs": []
    },
    {
      "cell_type": "code",
      "source": [
        "model=Sequential()\n",
        "model.add(LSTM(50,return_sequences=True,input_shape=(4,1)))\n",
        "model.add(LSTM(50))\n",
        "model.add(Dense(1))\n",
        "model.compile(loss='mean_squared_error',optimizer='adam')\n",
        "model.fit(X_train,y_train,validation_data=(X_test,ytest),epochs=100,batch_size=1,verbose=1)"
      ],
      "metadata": {
        "colab": {
          "base_uri": "https://localhost:8080/"
        },
        "id": "sg0eT0WzI93P",
        "outputId": "27269144-4589-49db-ba2d-11e910a916da"
      },
      "execution_count": 26,
      "outputs": [
        {
          "output_type": "stream",
          "name": "stdout",
          "text": [
            "Epoch 1/100\n",
            "88/88 [==============================] - 12s 35ms/step - loss: 0.0129 - val_loss: 0.0499\n",
            "Epoch 2/100\n",
            "88/88 [==============================] - 1s 12ms/step - loss: 0.0075 - val_loss: 0.0330\n",
            "Epoch 3/100\n",
            "88/88 [==============================] - 1s 14ms/step - loss: 0.0062 - val_loss: 0.0269\n",
            "Epoch 4/100\n",
            "88/88 [==============================] - 1s 16ms/step - loss: 0.0053 - val_loss: 0.0266\n",
            "Epoch 5/100\n",
            "88/88 [==============================] - 2s 18ms/step - loss: 0.0055 - val_loss: 0.0264\n",
            "Epoch 6/100\n",
            "88/88 [==============================] - 1s 15ms/step - loss: 0.0052 - val_loss: 0.0258\n",
            "Epoch 7/100\n",
            "88/88 [==============================] - 1s 16ms/step - loss: 0.0054 - val_loss: 0.0255\n",
            "Epoch 8/100\n",
            "88/88 [==============================] - 1s 12ms/step - loss: 0.0050 - val_loss: 0.0359\n",
            "Epoch 9/100\n",
            "88/88 [==============================] - 1s 11ms/step - loss: 0.0051 - val_loss: 0.0317\n",
            "Epoch 10/100\n",
            "88/88 [==============================] - 1s 7ms/step - loss: 0.0047 - val_loss: 0.0219\n",
            "Epoch 11/100\n",
            "88/88 [==============================] - 1s 6ms/step - loss: 0.0051 - val_loss: 0.0192\n",
            "Epoch 12/100\n",
            "88/88 [==============================] - 1s 6ms/step - loss: 0.0045 - val_loss: 0.0266\n",
            "Epoch 13/100\n",
            "88/88 [==============================] - 0s 6ms/step - loss: 0.0041 - val_loss: 0.0273\n",
            "Epoch 14/100\n",
            "88/88 [==============================] - 0s 6ms/step - loss: 0.0041 - val_loss: 0.0172\n",
            "Epoch 15/100\n",
            "88/88 [==============================] - 1s 6ms/step - loss: 0.0044 - val_loss: 0.0203\n",
            "Epoch 16/100\n",
            "88/88 [==============================] - 1s 6ms/step - loss: 0.0038 - val_loss: 0.0137\n",
            "Epoch 17/100\n",
            "88/88 [==============================] - 1s 6ms/step - loss: 0.0035 - val_loss: 0.0120\n",
            "Epoch 18/100\n",
            "88/88 [==============================] - 0s 5ms/step - loss: 0.0032 - val_loss: 0.0151\n",
            "Epoch 19/100\n",
            "88/88 [==============================] - 1s 6ms/step - loss: 0.0029 - val_loss: 0.0109\n",
            "Epoch 20/100\n",
            "88/88 [==============================] - 1s 7ms/step - loss: 0.0033 - val_loss: 0.0088\n",
            "Epoch 21/100\n",
            "88/88 [==============================] - 1s 8ms/step - loss: 0.0026 - val_loss: 0.0093\n",
            "Epoch 22/100\n",
            "88/88 [==============================] - 1s 9ms/step - loss: 0.0024 - val_loss: 0.0069\n",
            "Epoch 23/100\n",
            "88/88 [==============================] - 1s 9ms/step - loss: 0.0026 - val_loss: 0.0066\n",
            "Epoch 24/100\n",
            "88/88 [==============================] - 1s 9ms/step - loss: 0.0023 - val_loss: 0.0109\n",
            "Epoch 25/100\n",
            "88/88 [==============================] - 1s 9ms/step - loss: 0.0023 - val_loss: 0.0123\n",
            "Epoch 26/100\n",
            "88/88 [==============================] - 1s 9ms/step - loss: 0.0022 - val_loss: 0.0081\n",
            "Epoch 27/100\n",
            "88/88 [==============================] - 1s 6ms/step - loss: 0.0020 - val_loss: 0.0073\n",
            "Epoch 28/100\n",
            "88/88 [==============================] - 1s 6ms/step - loss: 0.0023 - val_loss: 0.0087\n",
            "Epoch 29/100\n",
            "88/88 [==============================] - 1s 6ms/step - loss: 0.0021 - val_loss: 0.0077\n",
            "Epoch 30/100\n",
            "88/88 [==============================] - 1s 6ms/step - loss: 0.0022 - val_loss: 0.0098\n",
            "Epoch 31/100\n",
            "88/88 [==============================] - 1s 6ms/step - loss: 0.0020 - val_loss: 0.0089\n",
            "Epoch 32/100\n",
            "88/88 [==============================] - 1s 6ms/step - loss: 0.0017 - val_loss: 0.0117\n",
            "Epoch 33/100\n",
            "88/88 [==============================] - 1s 6ms/step - loss: 0.0021 - val_loss: 0.0074\n",
            "Epoch 34/100\n",
            "88/88 [==============================] - 1s 7ms/step - loss: 0.0017 - val_loss: 0.0094\n",
            "Epoch 35/100\n",
            "88/88 [==============================] - 0s 6ms/step - loss: 0.0019 - val_loss: 0.0133\n",
            "Epoch 36/100\n",
            "88/88 [==============================] - 1s 6ms/step - loss: 0.0019 - val_loss: 0.0100\n",
            "Epoch 37/100\n",
            "88/88 [==============================] - 1s 6ms/step - loss: 0.0019 - val_loss: 0.0087\n",
            "Epoch 38/100\n",
            "88/88 [==============================] - 1s 7ms/step - loss: 0.0019 - val_loss: 0.0097\n",
            "Epoch 39/100\n",
            "88/88 [==============================] - 1s 6ms/step - loss: 0.0019 - val_loss: 0.0084\n",
            "Epoch 40/100\n",
            "88/88 [==============================] - 1s 6ms/step - loss: 0.0019 - val_loss: 0.0164\n",
            "Epoch 41/100\n",
            "88/88 [==============================] - 1s 6ms/step - loss: 0.0017 - val_loss: 0.0101\n",
            "Epoch 42/100\n",
            "88/88 [==============================] - 1s 6ms/step - loss: 0.0020 - val_loss: 0.0253\n",
            "Epoch 43/100\n",
            "88/88 [==============================] - 1s 7ms/step - loss: 0.0022 - val_loss: 0.0139\n",
            "Epoch 44/100\n",
            "88/88 [==============================] - 1s 6ms/step - loss: 0.0020 - val_loss: 0.0103\n",
            "Epoch 45/100\n",
            "88/88 [==============================] - 1s 8ms/step - loss: 0.0019 - val_loss: 0.0089\n",
            "Epoch 46/100\n",
            "88/88 [==============================] - 1s 9ms/step - loss: 0.0023 - val_loss: 0.0079\n",
            "Epoch 47/100\n",
            "88/88 [==============================] - 1s 9ms/step - loss: 0.0020 - val_loss: 0.0203\n",
            "Epoch 48/100\n",
            "88/88 [==============================] - 1s 8ms/step - loss: 0.0022 - val_loss: 0.0103\n",
            "Epoch 49/100\n",
            "88/88 [==============================] - 1s 9ms/step - loss: 0.0018 - val_loss: 0.0221\n",
            "Epoch 50/100\n",
            "88/88 [==============================] - 1s 9ms/step - loss: 0.0018 - val_loss: 0.0078\n",
            "Epoch 51/100\n",
            "88/88 [==============================] - 1s 7ms/step - loss: 0.0020 - val_loss: 0.0093\n",
            "Epoch 52/100\n",
            "88/88 [==============================] - 1s 6ms/step - loss: 0.0019 - val_loss: 0.0099\n",
            "Epoch 53/100\n",
            "88/88 [==============================] - 1s 7ms/step - loss: 0.0020 - val_loss: 0.0215\n",
            "Epoch 54/100\n",
            "88/88 [==============================] - 1s 7ms/step - loss: 0.0018 - val_loss: 0.0081\n",
            "Epoch 55/100\n",
            "88/88 [==============================] - 1s 6ms/step - loss: 0.0018 - val_loss: 0.0133\n",
            "Epoch 56/100\n",
            "88/88 [==============================] - 1s 7ms/step - loss: 0.0019 - val_loss: 0.0079\n",
            "Epoch 57/100\n",
            "88/88 [==============================] - 1s 6ms/step - loss: 0.0019 - val_loss: 0.0164\n",
            "Epoch 58/100\n",
            "88/88 [==============================] - 1s 6ms/step - loss: 0.0019 - val_loss: 0.0147\n",
            "Epoch 59/100\n",
            "88/88 [==============================] - 1s 6ms/step - loss: 0.0022 - val_loss: 0.0098\n",
            "Epoch 60/100\n",
            "88/88 [==============================] - 1s 7ms/step - loss: 0.0018 - val_loss: 0.0091\n",
            "Epoch 61/100\n",
            "88/88 [==============================] - 1s 6ms/step - loss: 0.0019 - val_loss: 0.0228\n",
            "Epoch 62/100\n",
            "88/88 [==============================] - 1s 6ms/step - loss: 0.0018 - val_loss: 0.0112\n",
            "Epoch 63/100\n",
            "88/88 [==============================] - 1s 6ms/step - loss: 0.0019 - val_loss: 0.0080\n",
            "Epoch 64/100\n",
            "88/88 [==============================] - 1s 7ms/step - loss: 0.0019 - val_loss: 0.0137\n",
            "Epoch 65/100\n",
            "88/88 [==============================] - 1s 6ms/step - loss: 0.0019 - val_loss: 0.0077\n",
            "Epoch 66/100\n",
            "88/88 [==============================] - 1s 7ms/step - loss: 0.0019 - val_loss: 0.0208\n",
            "Epoch 67/100\n",
            "88/88 [==============================] - 1s 6ms/step - loss: 0.0022 - val_loss: 0.0167\n",
            "Epoch 68/100\n",
            "88/88 [==============================] - 1s 6ms/step - loss: 0.0020 - val_loss: 0.0080\n",
            "Epoch 69/100\n",
            "88/88 [==============================] - 1s 8ms/step - loss: 0.0019 - val_loss: 0.0218\n",
            "Epoch 70/100\n",
            "88/88 [==============================] - 1s 9ms/step - loss: 0.0019 - val_loss: 0.0173\n",
            "Epoch 71/100\n",
            "88/88 [==============================] - 1s 9ms/step - loss: 0.0020 - val_loss: 0.0083\n",
            "Epoch 72/100\n",
            "88/88 [==============================] - 1s 9ms/step - loss: 0.0020 - val_loss: 0.0094\n",
            "Epoch 73/100\n",
            "88/88 [==============================] - 1s 9ms/step - loss: 0.0020 - val_loss: 0.0114\n",
            "Epoch 74/100\n",
            "88/88 [==============================] - 1s 9ms/step - loss: 0.0018 - val_loss: 0.0230\n",
            "Epoch 75/100\n",
            "88/88 [==============================] - 1s 6ms/step - loss: 0.0019 - val_loss: 0.0228\n",
            "Epoch 76/100\n",
            "88/88 [==============================] - 1s 6ms/step - loss: 0.0019 - val_loss: 0.0084\n",
            "Epoch 77/100\n",
            "88/88 [==============================] - 1s 7ms/step - loss: 0.0018 - val_loss: 0.0122\n",
            "Epoch 78/100\n",
            "88/88 [==============================] - 1s 7ms/step - loss: 0.0020 - val_loss: 0.0249\n",
            "Epoch 79/100\n",
            "88/88 [==============================] - 1s 7ms/step - loss: 0.0023 - val_loss: 0.0092\n",
            "Epoch 80/100\n",
            "88/88 [==============================] - 1s 6ms/step - loss: 0.0018 - val_loss: 0.0073\n",
            "Epoch 81/100\n",
            "88/88 [==============================] - 1s 6ms/step - loss: 0.0022 - val_loss: 0.0135\n",
            "Epoch 82/100\n",
            "88/88 [==============================] - 1s 6ms/step - loss: 0.0019 - val_loss: 0.0089\n",
            "Epoch 83/100\n",
            "88/88 [==============================] - 1s 6ms/step - loss: 0.0018 - val_loss: 0.0152\n",
            "Epoch 84/100\n",
            "88/88 [==============================] - 1s 7ms/step - loss: 0.0019 - val_loss: 0.0232\n",
            "Epoch 85/100\n",
            "88/88 [==============================] - 1s 6ms/step - loss: 0.0019 - val_loss: 0.0215\n",
            "Epoch 86/100\n",
            "88/88 [==============================] - 0s 6ms/step - loss: 0.0017 - val_loss: 0.0211\n",
            "Epoch 87/100\n",
            "88/88 [==============================] - 1s 7ms/step - loss: 0.0019 - val_loss: 0.0104\n",
            "Epoch 88/100\n",
            "88/88 [==============================] - 1s 6ms/step - loss: 0.0017 - val_loss: 0.0087\n",
            "Epoch 89/100\n",
            "88/88 [==============================] - 1s 7ms/step - loss: 0.0017 - val_loss: 0.0155\n",
            "Epoch 90/100\n",
            "88/88 [==============================] - 1s 6ms/step - loss: 0.0020 - val_loss: 0.0112\n",
            "Epoch 91/100\n",
            "88/88 [==============================] - 1s 6ms/step - loss: 0.0018 - val_loss: 0.0082\n",
            "Epoch 92/100\n",
            "88/88 [==============================] - 1s 7ms/step - loss: 0.0019 - val_loss: 0.0126\n",
            "Epoch 93/100\n",
            "88/88 [==============================] - 1s 9ms/step - loss: 0.0018 - val_loss: 0.0093\n",
            "Epoch 94/100\n",
            "88/88 [==============================] - 1s 9ms/step - loss: 0.0017 - val_loss: 0.0097\n",
            "Epoch 95/100\n",
            "88/88 [==============================] - 1s 9ms/step - loss: 0.0021 - val_loss: 0.0082\n",
            "Epoch 96/100\n",
            "88/88 [==============================] - 1s 9ms/step - loss: 0.0020 - val_loss: 0.0102\n",
            "Epoch 97/100\n",
            "88/88 [==============================] - 1s 9ms/step - loss: 0.0020 - val_loss: 0.0157\n",
            "Epoch 98/100\n",
            "88/88 [==============================] - 1s 8ms/step - loss: 0.0019 - val_loss: 0.0109\n",
            "Epoch 99/100\n",
            "88/88 [==============================] - 1s 6ms/step - loss: 0.0019 - val_loss: 0.0121\n",
            "Epoch 100/100\n",
            "88/88 [==============================] - 1s 6ms/step - loss: 0.0021 - val_loss: 0.0160\n"
          ]
        },
        {
          "output_type": "execute_result",
          "data": {
            "text/plain": [
              "<keras.callbacks.History at 0x7c2f104f6530>"
            ]
          },
          "metadata": {},
          "execution_count": 26
        }
      ]
    },
    {
      "cell_type": "code",
      "source": [
        "### Lets Do the prediction and check performance metrics\n",
        "train_predict=model.predict(X_train)\n",
        "test_predict=model.predict(X_test)"
      ],
      "metadata": {
        "colab": {
          "base_uri": "https://localhost:8080/"
        },
        "id": "0Ssm6NTUJCEz",
        "outputId": "08423da9-4b2d-4b7e-f1d5-2eeb604fb97c"
      },
      "execution_count": 27,
      "outputs": [
        {
          "output_type": "stream",
          "name": "stdout",
          "text": [
            "3/3 [==============================] - 1s 8ms/step\n",
            "2/2 [==============================] - 0s 7ms/step\n"
          ]
        }
      ]
    },
    {
      "cell_type": "code",
      "source": [
        "test_predict"
      ],
      "metadata": {
        "colab": {
          "base_uri": "https://localhost:8080/"
        },
        "id": "-Ns7BEarJTkb",
        "outputId": "d2ffe812-c38d-4493-df8d-ec949d303b00"
      },
      "execution_count": 28,
      "outputs": [
        {
          "output_type": "execute_result",
          "data": {
            "text/plain": [
              "array([[0.38771373],\n",
              "       [0.3686349 ],\n",
              "       [0.5515984 ],\n",
              "       [0.39718533],\n",
              "       [0.5050989 ],\n",
              "       [0.6647817 ],\n",
              "       [0.6297921 ],\n",
              "       [0.6114106 ],\n",
              "       [0.4073408 ],\n",
              "       [0.38652351],\n",
              "       [0.3198381 ],\n",
              "       [0.48349872],\n",
              "       [0.41163617],\n",
              "       [0.3871262 ],\n",
              "       [0.5552991 ],\n",
              "       [0.3879932 ],\n",
              "       [0.5302009 ],\n",
              "       [0.6841343 ],\n",
              "       [0.6883937 ],\n",
              "       [0.66822255],\n",
              "       [0.30495605],\n",
              "       [0.47190228],\n",
              "       [0.27088615],\n",
              "       [0.48844522],\n",
              "       [0.46888116],\n",
              "       [0.411166  ],\n",
              "       [0.6676795 ],\n",
              "       [0.42627603],\n",
              "       [0.65043604],\n",
              "       [0.67939514],\n",
              "       [0.81922305],\n",
              "       [0.62714165],\n",
              "       [0.37212512],\n",
              "       [0.46205902],\n",
              "       [0.29841724],\n",
              "       [0.60023475],\n",
              "       [0.4877552 ],\n",
              "       [0.47629654],\n",
              "       [0.6298234 ],\n",
              "       [0.62479824],\n",
              "       [0.5944292 ],\n",
              "       [0.8428609 ],\n",
              "       [0.8468225 ],\n",
              "       [0.51477706],\n",
              "       [0.4170182 ],\n",
              "       [0.42254466]], dtype=float32)"
            ]
          },
          "metadata": {},
          "execution_count": 28
        }
      ]
    },
    {
      "cell_type": "code",
      "source": [
        "##Transformback to original form\n",
        "train_predict=scaler.inverse_transform(train_predict)\n",
        "test_predict=scaler.inverse_transform(test_predict)"
      ],
      "metadata": {
        "id": "FcOVjzhrJZAw"
      },
      "execution_count": 29,
      "outputs": []
    },
    {
      "cell_type": "code",
      "source": [
        "test_predict"
      ],
      "metadata": {
        "colab": {
          "base_uri": "https://localhost:8080/"
        },
        "id": "xNPBL94LJcq4",
        "outputId": "5d41945f-37c5-4710-f528-1c28d1d4f4d3"
      },
      "execution_count": 30,
      "outputs": [
        {
          "output_type": "execute_result",
          "data": {
            "text/plain": [
              "array([[304.83572],\n",
              "       [294.95288],\n",
              "       [389.728  ],\n",
              "       [309.742  ],\n",
              "       [365.64124],\n",
              "       [448.35693],\n",
              "       [430.23233],\n",
              "       [420.71072],\n",
              "       [315.00253],\n",
              "       [304.21918],\n",
              "       [269.67615],\n",
              "       [354.45233],\n",
              "       [317.22754],\n",
              "       [304.5314 ],\n",
              "       [391.64496],\n",
              "       [304.98047],\n",
              "       [378.64407],\n",
              "       [458.3816 ],\n",
              "       [460.58795],\n",
              "       [450.13928],\n",
              "       [261.96722],\n",
              "       [348.44537],\n",
              "       [244.31903],\n",
              "       [357.01465],\n",
              "       [346.88043],\n",
              "       [316.984  ],\n",
              "       [449.858  ],\n",
              "       [324.811  ],\n",
              "       [440.92587],\n",
              "       [455.9267 ],\n",
              "       [528.35754],\n",
              "       [428.85938],\n",
              "       [296.7608 ],\n",
              "       [343.3466 ],\n",
              "       [258.58014],\n",
              "       [414.9216 ],\n",
              "       [356.6572 ],\n",
              "       [350.72162],\n",
              "       [430.24854],\n",
              "       [427.6455 ],\n",
              "       [411.91434],\n",
              "       [540.6019 ],\n",
              "       [542.65405],\n",
              "       [370.65454],\n",
              "       [320.01544],\n",
              "       [322.87814]], dtype=float32)"
            ]
          },
          "metadata": {},
          "execution_count": 30
        }
      ]
    },
    {
      "cell_type": "code",
      "source": [
        "y_train.shape,train_predict.shape,train_predict"
      ],
      "metadata": {
        "colab": {
          "base_uri": "https://localhost:8080/"
        },
        "id": "LVb3vMJVJfaB",
        "outputId": "26f7fc9e-03d7-4eff-d5c9-e40d71e8a4cd"
      },
      "execution_count": 31,
      "outputs": [
        {
          "output_type": "execute_result",
          "data": {
            "text/plain": [
              "((88,),\n",
              " (88, 1),\n",
              " array([[139.45656],\n",
              "        [133.8505 ],\n",
              "        [147.60217],\n",
              "        [157.9993 ],\n",
              "        [157.50305],\n",
              "        [147.75894],\n",
              "        [133.87563],\n",
              "        [120.90527],\n",
              "        [132.00772],\n",
              "        [126.93082],\n",
              "        [137.35068],\n",
              "        [151.02768],\n",
              "        [144.94743],\n",
              "        [138.07042],\n",
              "        [161.62447],\n",
              "        [178.72874],\n",
              "        [177.26122],\n",
              "        [168.16418],\n",
              "        [146.50833],\n",
              "        [131.3047 ],\n",
              "        [154.2579 ],\n",
              "        [154.18483],\n",
              "        [160.03809],\n",
              "        [189.06392],\n",
              "        [169.0296 ],\n",
              "        [185.00658],\n",
              "        [188.39569],\n",
              "        [210.34021],\n",
              "        [205.32867],\n",
              "        [192.01932],\n",
              "        [173.50897],\n",
              "        [160.76244],\n",
              "        [180.97331],\n",
              "        [180.0095 ],\n",
              "        [190.11229],\n",
              "        [203.20482],\n",
              "        [187.83313],\n",
              "        [195.49365],\n",
              "        [232.74048],\n",
              "        [234.83282],\n",
              "        [250.6132 ],\n",
              "        [207.11517],\n",
              "        [204.14902],\n",
              "        [183.8181 ],\n",
              "        [210.33762],\n",
              "        [203.19006],\n",
              "        [205.3527 ],\n",
              "        [252.54015],\n",
              "        [234.84843],\n",
              "        [236.32814],\n",
              "        [255.93553],\n",
              "        [274.0492 ],\n",
              "        [275.58435],\n",
              "        [230.377  ],\n",
              "        [221.00555],\n",
              "        [189.35486],\n",
              "        [219.8632 ],\n",
              "        [211.18764],\n",
              "        [195.00925],\n",
              "        [255.3915 ],\n",
              "        [224.34607],\n",
              "        [245.9539 ],\n",
              "        [278.4075 ],\n",
              "        [313.83224],\n",
              "        [281.80252],\n",
              "        [255.0031 ],\n",
              "        [234.07376],\n",
              "        [211.19835],\n",
              "        [248.71852],\n",
              "        [248.09679],\n",
              "        [235.94295],\n",
              "        [286.5097 ],\n",
              "        [266.45776],\n",
              "        [276.67593],\n",
              "        [337.37283],\n",
              "        [373.1321 ],\n",
              "        [314.97064],\n",
              "        [303.08484],\n",
              "        [263.7541 ],\n",
              "        [235.29478],\n",
              "        [306.0675 ],\n",
              "        [277.90152],\n",
              "        [279.06934],\n",
              "        [339.93362],\n",
              "        [296.13156],\n",
              "        [326.01523],\n",
              "        [399.40094],\n",
              "        [399.77792]], dtype=float32))"
            ]
          },
          "metadata": {},
          "execution_count": 31
        }
      ]
    },
    {
      "cell_type": "code",
      "source": [
        "### Calculate RMSE performance metrics\n",
        "import math\n",
        "from sklearn.metrics import mean_squared_error\n",
        "math.sqrt(mean_squared_error(y_train,train_predict))"
      ],
      "metadata": {
        "colab": {
          "base_uri": "https://localhost:8080/"
        },
        "id": "EZMhcr1LJjdY",
        "outputId": "aa1a1ca0-1cef-4456-ffb4-d5d7755a18c9"
      },
      "execution_count": 32,
      "outputs": [
        {
          "output_type": "execute_result",
          "data": {
            "text/plain": [
              "227.5762233956642"
            ]
          },
          "metadata": {},
          "execution_count": 32
        }
      ]
    },
    {
      "cell_type": "code",
      "source": [
        "### Test Data RMSE\n",
        "math.sqrt(mean_squared_error(ytest,test_predict))"
      ],
      "metadata": {
        "colab": {
          "base_uri": "https://localhost:8080/"
        },
        "id": "gficacvdJnDS",
        "outputId": "f22f0305-df93-49b1-d74b-ede10cdaed86"
      },
      "execution_count": 33,
      "outputs": [
        {
          "output_type": "execute_result",
          "data": {
            "text/plain": [
              "379.82199900862275"
            ]
          },
          "metadata": {},
          "execution_count": 33
        }
      ]
    },
    {
      "cell_type": "code",
      "source": [
        "# shift train predictions for plotting\n",
        "lookback=4\n",
        "trainPredictPlot = numpy.empty_like(df)\n",
        "trainPredictPlot[:, :] = np.nan\n",
        "trainPredictPlot[lookback:len(train_predict)+lookback, :] = train_predict\n",
        "# shift test predictions for plotting\n",
        "testPredictPlot = numpy.empty_like(df)\n",
        "testPredictPlot[:, :] = numpy.nan\n",
        "testPredictPlot[len(train_predict)+(lookback*2)+1:len(df)-1, :] = test_predict\n",
        "# plot baseline and predictions\n",
        "plt.plot(scaler.inverse_transform(df))\n",
        "plt.plot(trainPredictPlot)\n",
        "plt.plot(testPredictPlot)\n",
        "plt.show()"
      ],
      "metadata": {
        "colab": {
          "base_uri": "https://localhost:8080/",
          "height": 430
        },
        "id": "QK3l-LUOJqn3",
        "outputId": "1c548e03-14f4-428c-9bfc-59bf7ce3db23"
      },
      "execution_count": 34,
      "outputs": [
        {
          "output_type": "display_data",
          "data": {
            "text/plain": [
              "<Figure size 640x480 with 1 Axes>"
            ],
            "image/png": "[encoded data removed]"
          },
          "metadata": {}
        }
      ]
    },
    {
      "cell_type": "code",
      "source": [],
      "metadata": {
        "id": "L3D67UvHJunG"
      },
      "execution_count": 35,
      "outputs": []
    },
    {
      "cell_type": "code",
      "source": [],
      "metadata": {
        "id": "ayLKzhwQYl4B"
      },
      "execution_count": 34,
      "outputs": []
    }
  ]
}